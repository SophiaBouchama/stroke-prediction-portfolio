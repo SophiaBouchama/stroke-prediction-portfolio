{
 "cells": [
  {
   "cell_type": "markdown",
   "metadata": {},
   "source": [
    "# Understanding and Predicting Stroke Events using Clinical Features\n",
    "\n",
    "## Heathcare Data Science and Analytics\n",
    "***"
   ]
  },
  {
   "cell_type": "markdown",
   "metadata": {},
   "source": [
    "## Table of Contents\n",
    "### The Problem\n",
    "- [Signifying the Importance of Predicting a Stoke Event](#problem)\n",
    "\n",
    "### Data Quality Check\n",
    "- [Simple Inspection of Data](#datacleaning)\n",
    "\n",
    "### Descriptive Statistics\n",
    "- [Summary Statistics, Stroke Rate, Size of Data](#descriptive_statistics)\n",
    "- [Correlation Matrix](#correlation_matrix)\n",
    "\n",
    "\n",
    "\n",
    "\n"
   ]
  },
  {
   "cell_type": "markdown",
   "metadata": {},
   "source": [
    "***\n",
    "### Objectives: \n",
    "- To understand what factors contributed most to a patient getting a stroke.\n",
    "\n",
    "- To perform clustering to find any meaningful patterns of clinical features.\n",
    "\n",
    "- To create a model that predicts the likelihood of a patient getting a stroke.\n",
    "\n",
    "- To create or improve different prevention strategies on targeted patients. \n",
    "\n",
    "The implementation of this model will allow healthcare professionals to create better decision-making actions.\n",
    "\n",
    "### I will be covering:\n",
    "1. Descriptive Analytics - What happened?\n",
    "2. Predictive Analytics - What might happen?\n",
    "3. Prescriptive Analytics - What should we do?\n"
   ]
  },
  {
   "cell_type": "markdown",
   "metadata": {},
   "source": [
    "<a id='problem'></a>\n",
    "### The Problem:\n",
    "\n",
    "The World Heath Organisation (WHO) have identified strokes as being the **2nd** leading cause of death globally.\n",
    "\n",
    "Stokes are responsible for approximately **11%** of total deaths.\n"
   ]
  },
  {
   "cell_type": "markdown",
   "metadata": {},
   "source": [
    "# Import Packages\n",
    "***"
   ]
  },
  {
   "cell_type": "code",
   "execution_count": 1,
   "metadata": {},
   "outputs": [],
   "source": [
    "__author__ = \"Sophia Bouchama\"\n",
    "__copyright__ = \"Copyright 2021. Sophia Bouchama\"\n",
    "__email__ = \"sophiabouchama@hotmail.com\""
   ]
  },
  {
   "cell_type": "code",
   "execution_count": 2,
   "metadata": {},
   "outputs": [],
   "source": [
    "# Import the neccessary modules for data manipulation and visual representation\n",
    "import pandas as pd\n",
    "import numpy as np\n",
    "import matplotlib.pyplot as plt\n",
    "import matplotlib as matplot\n",
    "import seaborn as sns\n",
    "%matplotlib inline"
   ]
  },
  {
   "cell_type": "markdown",
   "metadata": {},
   "source": [
    "# Read the Data\n",
    "***"
   ]
  },
  {
   "cell_type": "code",
   "execution_count": 67,
   "metadata": {},
   "outputs": [],
   "source": [
    "df = pd.read_csv('healthcare-dataset-stroke-data.csv').drop(columns='id')"
   ]
  },
  {
   "cell_type": "code",
   "execution_count": 68,
   "metadata": {
    "scrolled": true
   },
   "outputs": [
    {
     "data": {
      "text/html": [
       "<div>\n",
       "<style scoped>\n",
       "    .dataframe tbody tr th:only-of-type {\n",
       "        vertical-align: middle;\n",
       "    }\n",
       "\n",
       "    .dataframe tbody tr th {\n",
       "        vertical-align: top;\n",
       "    }\n",
       "\n",
       "    .dataframe thead th {\n",
       "        text-align: right;\n",
       "    }\n",
       "</style>\n",
       "<table border=\"1\" class=\"dataframe\">\n",
       "  <thead>\n",
       "    <tr style=\"text-align: right;\">\n",
       "      <th></th>\n",
       "      <th>gender</th>\n",
       "      <th>age</th>\n",
       "      <th>hypertension</th>\n",
       "      <th>heart_disease</th>\n",
       "      <th>ever_married</th>\n",
       "      <th>work_type</th>\n",
       "      <th>Residence_type</th>\n",
       "      <th>avg_glucose_level</th>\n",
       "      <th>bmi</th>\n",
       "      <th>smoking_status</th>\n",
       "      <th>stroke</th>\n",
       "    </tr>\n",
       "  </thead>\n",
       "  <tbody>\n",
       "    <tr>\n",
       "      <th>0</th>\n",
       "      <td>Male</td>\n",
       "      <td>67.0</td>\n",
       "      <td>0</td>\n",
       "      <td>1</td>\n",
       "      <td>Yes</td>\n",
       "      <td>Private</td>\n",
       "      <td>Urban</td>\n",
       "      <td>228.69</td>\n",
       "      <td>36.6</td>\n",
       "      <td>formerly smoked</td>\n",
       "      <td>1</td>\n",
       "    </tr>\n",
       "    <tr>\n",
       "      <th>1</th>\n",
       "      <td>Female</td>\n",
       "      <td>61.0</td>\n",
       "      <td>0</td>\n",
       "      <td>0</td>\n",
       "      <td>Yes</td>\n",
       "      <td>Self-employed</td>\n",
       "      <td>Rural</td>\n",
       "      <td>202.21</td>\n",
       "      <td>NaN</td>\n",
       "      <td>never smoked</td>\n",
       "      <td>1</td>\n",
       "    </tr>\n",
       "    <tr>\n",
       "      <th>2</th>\n",
       "      <td>Male</td>\n",
       "      <td>80.0</td>\n",
       "      <td>0</td>\n",
       "      <td>1</td>\n",
       "      <td>Yes</td>\n",
       "      <td>Private</td>\n",
       "      <td>Rural</td>\n",
       "      <td>105.92</td>\n",
       "      <td>32.5</td>\n",
       "      <td>never smoked</td>\n",
       "      <td>1</td>\n",
       "    </tr>\n",
       "    <tr>\n",
       "      <th>3</th>\n",
       "      <td>Female</td>\n",
       "      <td>49.0</td>\n",
       "      <td>0</td>\n",
       "      <td>0</td>\n",
       "      <td>Yes</td>\n",
       "      <td>Private</td>\n",
       "      <td>Urban</td>\n",
       "      <td>171.23</td>\n",
       "      <td>34.4</td>\n",
       "      <td>smokes</td>\n",
       "      <td>1</td>\n",
       "    </tr>\n",
       "    <tr>\n",
       "      <th>4</th>\n",
       "      <td>Female</td>\n",
       "      <td>79.0</td>\n",
       "      <td>1</td>\n",
       "      <td>0</td>\n",
       "      <td>Yes</td>\n",
       "      <td>Self-employed</td>\n",
       "      <td>Rural</td>\n",
       "      <td>174.12</td>\n",
       "      <td>24.0</td>\n",
       "      <td>never smoked</td>\n",
       "      <td>1</td>\n",
       "    </tr>\n",
       "  </tbody>\n",
       "</table>\n",
       "</div>"
      ],
      "text/plain": [
       "   gender   age  hypertension  heart_disease ever_married      work_type  \\\n",
       "0    Male  67.0             0              1          Yes        Private   \n",
       "1  Female  61.0             0              0          Yes  Self-employed   \n",
       "2    Male  80.0             0              1          Yes        Private   \n",
       "3  Female  49.0             0              0          Yes        Private   \n",
       "4  Female  79.0             1              0          Yes  Self-employed   \n",
       "\n",
       "  Residence_type  avg_glucose_level   bmi   smoking_status  stroke  \n",
       "0          Urban             228.69  36.6  formerly smoked       1  \n",
       "1          Rural             202.21   NaN     never smoked       1  \n",
       "2          Rural             105.92  32.5     never smoked       1  \n",
       "3          Urban             171.23  34.4           smokes       1  \n",
       "4          Rural             174.12  24.0     never smoked       1  "
      ]
     },
     "execution_count": 68,
     "metadata": {},
     "output_type": "execute_result"
    }
   ],
   "source": [
    "# Examine the dataset\n",
    "df.head()"
   ]
  },
  {
   "cell_type": "markdown",
   "metadata": {},
   "source": [
    "<a id='datacleaning'></a>\n",
    "# Data Quality Check\n",
    "***"
   ]
  },
  {
   "cell_type": "code",
   "execution_count": 49,
   "metadata": {},
   "outputs": [
    {
     "data": {
      "text/plain": [
       "gender               False\n",
       "age                  False\n",
       "hypertension         False\n",
       "heart_disease        False\n",
       "ever_married         False\n",
       "work_type            False\n",
       "Residence_type       False\n",
       "avg_glucose_level    False\n",
       "bmi                   True\n",
       "smoking_status       False\n",
       "stroke               False\n",
       "dtype: bool"
      ]
     },
     "execution_count": 49,
     "metadata": {},
     "output_type": "execute_result"
    }
   ],
   "source": [
    "# Check to see if there are any missing values in our data set\n",
    "df.isnull().any()"
   ]
  },
  {
   "cell_type": "code",
   "execution_count": 58,
   "metadata": {},
   "outputs": [
    {
     "data": {
      "text/plain": [
       "False    4909\n",
       "True      201\n",
       "Name: bmi, dtype: int64"
      ]
     },
     "execution_count": 58,
     "metadata": {},
     "output_type": "execute_result"
    }
   ],
   "source": [
    "# bmi is the only column with missing values\n",
    "# Here we can see there are 201 missing bmi values\n",
    "df['bmi'].isnull().value_counts()"
   ]
  },
  {
   "cell_type": "code",
   "execution_count": 61,
   "metadata": {},
   "outputs": [
    {
     "data": {
      "text/plain": [
       "3.9334637964774952"
      ]
     },
     "execution_count": 61,
     "metadata": {},
     "output_type": "execute_result"
    }
   ],
   "source": [
    "# Calculating BMI data sparsity\n",
    "missing_vals = df['bmi'].isnull().sum()\n",
    "present_vals = len(df) - df['bmi'].isnull().sum()\n",
    "\n",
    "bmi_data_sparsity = (missing_vals / (missing_vals + present_vals)) * 100\n",
    "\n",
    "bmi_data_sparsity"
   ]
  },
  {
   "cell_type": "code",
   "execution_count": 10,
   "metadata": {
    "scrolled": true
   },
   "outputs": [
    {
     "name": "stdout",
     "output_type": "stream",
     "text": [
      "<class 'pandas.core.frame.DataFrame'>\n",
      "RangeIndex: 5110 entries, 0 to 5109\n",
      "Data columns (total 12 columns):\n",
      "id                   5110 non-null int64\n",
      "gender               5110 non-null object\n",
      "age                  5110 non-null float64\n",
      "hypertension         5110 non-null int64\n",
      "heart_disease        5110 non-null int64\n",
      "ever_married         5110 non-null object\n",
      "work_type            5110 non-null object\n",
      "Residence_type       5110 non-null object\n",
      "avg_glucose_level    5110 non-null float64\n",
      "bmi                  4909 non-null float64\n",
      "smoking_status       5110 non-null object\n",
      "stroke               5110 non-null int64\n",
      "dtypes: float64(3), int64(4), object(5)\n",
      "memory usage: 479.1+ KB\n"
     ]
    }
   ],
   "source": [
    "df.info()"
   ]
  },
  {
   "cell_type": "code",
   "execution_count": 15,
   "metadata": {},
   "outputs": [
    {
     "data": {
      "text/plain": [
       "id                     int64\n",
       "gender                object\n",
       "age                  float64\n",
       "hypertension           int64\n",
       "heart_disease          int64\n",
       "ever_married          object\n",
       "work_type             object\n",
       "Residence_type        object\n",
       "avg_glucose_level    float64\n",
       "bmi                  float64\n",
       "smoking_status        object\n",
       "stroke                 int64\n",
       "dtype: object"
      ]
     },
     "execution_count": 15,
     "metadata": {},
     "output_type": "execute_result"
    }
   ],
   "source": [
    "# Check the type of our features to examine if there are any data inconsistencies\n",
    "df.dtypes"
   ]
  },
  {
   "cell_type": "markdown",
   "metadata": {},
   "source": [
    "<a id='descriptive_statistics'></a>\n",
    "# Exploratory Data Analysis\n",
    "***"
   ]
  },
  {
   "cell_type": "code",
   "execution_count": 27,
   "metadata": {},
   "outputs": [
    {
     "data": {
      "text/plain": [
       "(5110, 12)"
      ]
     },
     "execution_count": 27,
     "metadata": {},
     "output_type": "execute_result"
    }
   ],
   "source": [
    "# How many patients are in the dataset?\n",
    "df.shape"
   ]
  },
  {
   "cell_type": "code",
   "execution_count": 31,
   "metadata": {},
   "outputs": [
    {
     "data": {
      "text/plain": [
       "0    0.951272\n",
       "1    0.048728\n",
       "Name: stroke, dtype: float64"
      ]
     },
     "execution_count": 31,
     "metadata": {},
     "output_type": "execute_result"
    }
   ],
   "source": [
    "# Calculate the stroke rate of the healthcare dataset.\n",
    "stroke_rate = df.stroke.value_counts() / df.shape[0]\n",
    "stroke_rate"
   ]
  },
  {
   "cell_type": "code",
   "execution_count": 32,
   "metadata": {},
   "outputs": [
    {
     "data": {
      "text/html": [
       "<div>\n",
       "<style scoped>\n",
       "    .dataframe tbody tr th:only-of-type {\n",
       "        vertical-align: middle;\n",
       "    }\n",
       "\n",
       "    .dataframe tbody tr th {\n",
       "        vertical-align: top;\n",
       "    }\n",
       "\n",
       "    .dataframe thead th {\n",
       "        text-align: right;\n",
       "    }\n",
       "</style>\n",
       "<table border=\"1\" class=\"dataframe\">\n",
       "  <thead>\n",
       "    <tr style=\"text-align: right;\">\n",
       "      <th></th>\n",
       "      <th>id</th>\n",
       "      <th>age</th>\n",
       "      <th>hypertension</th>\n",
       "      <th>heart_disease</th>\n",
       "      <th>avg_glucose_level</th>\n",
       "      <th>bmi</th>\n",
       "      <th>stroke</th>\n",
       "    </tr>\n",
       "  </thead>\n",
       "  <tbody>\n",
       "    <tr>\n",
       "      <th>count</th>\n",
       "      <td>5110.000000</td>\n",
       "      <td>5110.000000</td>\n",
       "      <td>5110.000000</td>\n",
       "      <td>5110.000000</td>\n",
       "      <td>5110.000000</td>\n",
       "      <td>4909.000000</td>\n",
       "      <td>5110.000000</td>\n",
       "    </tr>\n",
       "    <tr>\n",
       "      <th>mean</th>\n",
       "      <td>36517.829354</td>\n",
       "      <td>43.226614</td>\n",
       "      <td>0.097456</td>\n",
       "      <td>0.054012</td>\n",
       "      <td>106.147677</td>\n",
       "      <td>28.893237</td>\n",
       "      <td>0.048728</td>\n",
       "    </tr>\n",
       "    <tr>\n",
       "      <th>std</th>\n",
       "      <td>21161.721625</td>\n",
       "      <td>22.612647</td>\n",
       "      <td>0.296607</td>\n",
       "      <td>0.226063</td>\n",
       "      <td>45.283560</td>\n",
       "      <td>7.854067</td>\n",
       "      <td>0.215320</td>\n",
       "    </tr>\n",
       "    <tr>\n",
       "      <th>min</th>\n",
       "      <td>67.000000</td>\n",
       "      <td>0.080000</td>\n",
       "      <td>0.000000</td>\n",
       "      <td>0.000000</td>\n",
       "      <td>55.120000</td>\n",
       "      <td>10.300000</td>\n",
       "      <td>0.000000</td>\n",
       "    </tr>\n",
       "    <tr>\n",
       "      <th>25%</th>\n",
       "      <td>17741.250000</td>\n",
       "      <td>25.000000</td>\n",
       "      <td>0.000000</td>\n",
       "      <td>0.000000</td>\n",
       "      <td>77.245000</td>\n",
       "      <td>23.500000</td>\n",
       "      <td>0.000000</td>\n",
       "    </tr>\n",
       "    <tr>\n",
       "      <th>50%</th>\n",
       "      <td>36932.000000</td>\n",
       "      <td>45.000000</td>\n",
       "      <td>0.000000</td>\n",
       "      <td>0.000000</td>\n",
       "      <td>91.885000</td>\n",
       "      <td>28.100000</td>\n",
       "      <td>0.000000</td>\n",
       "    </tr>\n",
       "    <tr>\n",
       "      <th>75%</th>\n",
       "      <td>54682.000000</td>\n",
       "      <td>61.000000</td>\n",
       "      <td>0.000000</td>\n",
       "      <td>0.000000</td>\n",
       "      <td>114.090000</td>\n",
       "      <td>33.100000</td>\n",
       "      <td>0.000000</td>\n",
       "    </tr>\n",
       "    <tr>\n",
       "      <th>max</th>\n",
       "      <td>72940.000000</td>\n",
       "      <td>82.000000</td>\n",
       "      <td>1.000000</td>\n",
       "      <td>1.000000</td>\n",
       "      <td>271.740000</td>\n",
       "      <td>97.600000</td>\n",
       "      <td>1.000000</td>\n",
       "    </tr>\n",
       "  </tbody>\n",
       "</table>\n",
       "</div>"
      ],
      "text/plain": [
       "                 id          age  hypertension  heart_disease  \\\n",
       "count   5110.000000  5110.000000   5110.000000    5110.000000   \n",
       "mean   36517.829354    43.226614      0.097456       0.054012   \n",
       "std    21161.721625    22.612647      0.296607       0.226063   \n",
       "min       67.000000     0.080000      0.000000       0.000000   \n",
       "25%    17741.250000    25.000000      0.000000       0.000000   \n",
       "50%    36932.000000    45.000000      0.000000       0.000000   \n",
       "75%    54682.000000    61.000000      0.000000       0.000000   \n",
       "max    72940.000000    82.000000      1.000000       1.000000   \n",
       "\n",
       "       avg_glucose_level          bmi       stroke  \n",
       "count        5110.000000  4909.000000  5110.000000  \n",
       "mean          106.147677    28.893237     0.048728  \n",
       "std            45.283560     7.854067     0.215320  \n",
       "min            55.120000    10.300000     0.000000  \n",
       "25%            77.245000    23.500000     0.000000  \n",
       "50%            91.885000    28.100000     0.000000  \n",
       "75%           114.090000    33.100000     0.000000  \n",
       "max           271.740000    97.600000     1.000000  "
      ]
     },
     "execution_count": 32,
     "metadata": {},
     "output_type": "execute_result"
    }
   ],
   "source": [
    "# Display the statistical overview of the patients\n",
    "df.describe()"
   ]
  },
  {
   "cell_type": "code",
   "execution_count": 40,
   "metadata": {
    "scrolled": true
   },
   "outputs": [
    {
     "data": {
      "text/html": [
       "<div>\n",
       "<style scoped>\n",
       "    .dataframe tbody tr th:only-of-type {\n",
       "        vertical-align: middle;\n",
       "    }\n",
       "\n",
       "    .dataframe tbody tr th {\n",
       "        vertical-align: top;\n",
       "    }\n",
       "\n",
       "    .dataframe thead th {\n",
       "        text-align: right;\n",
       "    }\n",
       "</style>\n",
       "<table border=\"1\" class=\"dataframe\">\n",
       "  <thead>\n",
       "    <tr style=\"text-align: right;\">\n",
       "      <th></th>\n",
       "      <th>id</th>\n",
       "      <th>age</th>\n",
       "      <th>hypertension</th>\n",
       "      <th>heart_disease</th>\n",
       "      <th>avg_glucose_level</th>\n",
       "      <th>bmi</th>\n",
       "    </tr>\n",
       "    <tr>\n",
       "      <th>stroke</th>\n",
       "      <th></th>\n",
       "      <th></th>\n",
       "      <th></th>\n",
       "      <th></th>\n",
       "      <th></th>\n",
       "      <th></th>\n",
       "    </tr>\n",
       "  </thead>\n",
       "  <tbody>\n",
       "    <tr>\n",
       "      <th>0</th>\n",
       "      <td>36487.236371</td>\n",
       "      <td>41.971545</td>\n",
       "      <td>0.088871</td>\n",
       "      <td>0.047110</td>\n",
       "      <td>104.795513</td>\n",
       "      <td>28.823064</td>\n",
       "    </tr>\n",
       "    <tr>\n",
       "      <th>1</th>\n",
       "      <td>37115.068273</td>\n",
       "      <td>67.728193</td>\n",
       "      <td>0.265060</td>\n",
       "      <td>0.188755</td>\n",
       "      <td>132.544739</td>\n",
       "      <td>30.471292</td>\n",
       "    </tr>\n",
       "  </tbody>\n",
       "</table>\n",
       "</div>"
      ],
      "text/plain": [
       "                  id        age  hypertension  heart_disease  \\\n",
       "stroke                                                         \n",
       "0       36487.236371  41.971545      0.088871       0.047110   \n",
       "1       37115.068273  67.728193      0.265060       0.188755   \n",
       "\n",
       "        avg_glucose_level        bmi  \n",
       "stroke                                \n",
       "0              104.795513  28.823064  \n",
       "1              132.544739  30.471292  "
      ]
     },
     "execution_count": 40,
     "metadata": {},
     "output_type": "execute_result"
    }
   ],
   "source": [
    "# Display the mean summary of patients (Stroke V.S. Non-Stroke). What do you notice between the groups?\n",
    "Stroke_Summary = df.groupby('stroke')\n",
    "Stroke_Summary.mean()"
   ]
  },
  {
   "cell_type": "code",
   "execution_count": 37,
   "metadata": {},
   "outputs": [
    {
     "data": {
      "text/html": [
       "<div>\n",
       "<style scoped>\n",
       "    .dataframe tbody tr th:only-of-type {\n",
       "        vertical-align: middle;\n",
       "    }\n",
       "\n",
       "    .dataframe tbody tr th {\n",
       "        vertical-align: top;\n",
       "    }\n",
       "\n",
       "    .dataframe thead th {\n",
       "        text-align: right;\n",
       "    }\n",
       "</style>\n",
       "<table border=\"1\" class=\"dataframe\">\n",
       "  <thead>\n",
       "    <tr style=\"text-align: right;\">\n",
       "      <th></th>\n",
       "      <th>age</th>\n",
       "      <th>hypertension</th>\n",
       "      <th>heart_disease</th>\n",
       "      <th>avg_glucose_level</th>\n",
       "      <th>bmi</th>\n",
       "    </tr>\n",
       "    <tr>\n",
       "      <th>stroke</th>\n",
       "      <th></th>\n",
       "      <th></th>\n",
       "      <th></th>\n",
       "      <th></th>\n",
       "      <th></th>\n",
       "    </tr>\n",
       "  </thead>\n",
       "  <tbody>\n",
       "    <tr>\n",
       "      <th>0</th>\n",
       "      <td>22.291940</td>\n",
       "      <td>0.284586</td>\n",
       "      <td>0.211895</td>\n",
       "      <td>43.846069</td>\n",
       "      <td>7.908287</td>\n",
       "    </tr>\n",
       "    <tr>\n",
       "      <th>1</th>\n",
       "      <td>12.727419</td>\n",
       "      <td>0.442254</td>\n",
       "      <td>0.392102</td>\n",
       "      <td>61.921056</td>\n",
       "      <td>6.329452</td>\n",
       "    </tr>\n",
       "  </tbody>\n",
       "</table>\n",
       "</div>"
      ],
      "text/plain": [
       "              age  hypertension  heart_disease  avg_glucose_level       bmi\n",
       "stroke                                                                     \n",
       "0       22.291940      0.284586       0.211895          43.846069  7.908287\n",
       "1       12.727419      0.442254       0.392102          61.921056  6.329452"
      ]
     },
     "execution_count": 37,
     "metadata": {},
     "output_type": "execute_result"
    }
   ],
   "source": [
    "Stroke_Summary.std()"
   ]
  },
  {
   "cell_type": "markdown",
   "metadata": {},
   "source": [
    "<a id='correlation_matrix'></a>\n",
    "### Correlation Matrix"
   ]
  },
  {
   "cell_type": "code",
   "execution_count": 62,
   "metadata": {
    "scrolled": true
   },
   "outputs": [
    {
     "data": {
      "text/html": [
       "<div>\n",
       "<style scoped>\n",
       "    .dataframe tbody tr th:only-of-type {\n",
       "        vertical-align: middle;\n",
       "    }\n",
       "\n",
       "    .dataframe tbody tr th {\n",
       "        vertical-align: top;\n",
       "    }\n",
       "\n",
       "    .dataframe thead th {\n",
       "        text-align: right;\n",
       "    }\n",
       "</style>\n",
       "<table border=\"1\" class=\"dataframe\">\n",
       "  <thead>\n",
       "    <tr style=\"text-align: right;\">\n",
       "      <th></th>\n",
       "      <th>age</th>\n",
       "      <th>hypertension</th>\n",
       "      <th>heart_disease</th>\n",
       "      <th>avg_glucose_level</th>\n",
       "      <th>bmi</th>\n",
       "      <th>stroke</th>\n",
       "    </tr>\n",
       "  </thead>\n",
       "  <tbody>\n",
       "    <tr>\n",
       "      <th>age</th>\n",
       "      <td>1.000000</td>\n",
       "      <td>0.276398</td>\n",
       "      <td>0.263796</td>\n",
       "      <td>0.238171</td>\n",
       "      <td>0.333398</td>\n",
       "      <td>0.245257</td>\n",
       "    </tr>\n",
       "    <tr>\n",
       "      <th>hypertension</th>\n",
       "      <td>0.276398</td>\n",
       "      <td>1.000000</td>\n",
       "      <td>0.108306</td>\n",
       "      <td>0.174474</td>\n",
       "      <td>0.167811</td>\n",
       "      <td>0.127904</td>\n",
       "    </tr>\n",
       "    <tr>\n",
       "      <th>heart_disease</th>\n",
       "      <td>0.263796</td>\n",
       "      <td>0.108306</td>\n",
       "      <td>1.000000</td>\n",
       "      <td>0.161857</td>\n",
       "      <td>0.041357</td>\n",
       "      <td>0.134914</td>\n",
       "    </tr>\n",
       "    <tr>\n",
       "      <th>avg_glucose_level</th>\n",
       "      <td>0.238171</td>\n",
       "      <td>0.174474</td>\n",
       "      <td>0.161857</td>\n",
       "      <td>1.000000</td>\n",
       "      <td>0.175502</td>\n",
       "      <td>0.131945</td>\n",
       "    </tr>\n",
       "    <tr>\n",
       "      <th>bmi</th>\n",
       "      <td>0.333398</td>\n",
       "      <td>0.167811</td>\n",
       "      <td>0.041357</td>\n",
       "      <td>0.175502</td>\n",
       "      <td>1.000000</td>\n",
       "      <td>0.042374</td>\n",
       "    </tr>\n",
       "    <tr>\n",
       "      <th>stroke</th>\n",
       "      <td>0.245257</td>\n",
       "      <td>0.127904</td>\n",
       "      <td>0.134914</td>\n",
       "      <td>0.131945</td>\n",
       "      <td>0.042374</td>\n",
       "      <td>1.000000</td>\n",
       "    </tr>\n",
       "  </tbody>\n",
       "</table>\n",
       "</div>"
      ],
      "text/plain": [
       "                        age  hypertension  heart_disease  avg_glucose_level  \\\n",
       "age                1.000000      0.276398       0.263796           0.238171   \n",
       "hypertension       0.276398      1.000000       0.108306           0.174474   \n",
       "heart_disease      0.263796      0.108306       1.000000           0.161857   \n",
       "avg_glucose_level  0.238171      0.174474       0.161857           1.000000   \n",
       "bmi                0.333398      0.167811       0.041357           0.175502   \n",
       "stroke             0.245257      0.127904       0.134914           0.131945   \n",
       "\n",
       "                        bmi    stroke  \n",
       "age                0.333398  0.245257  \n",
       "hypertension       0.167811  0.127904  \n",
       "heart_disease      0.041357  0.134914  \n",
       "avg_glucose_level  0.175502  0.131945  \n",
       "bmi                1.000000  0.042374  \n",
       "stroke             0.042374  1.000000  "
      ]
     },
     "execution_count": 62,
     "metadata": {},
     "output_type": "execute_result"
    },
    {
     "data": {
      "image/png": "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\n",
      "text/plain": [
       "<Figure size 432x288 with 2 Axes>"
      ]
     },
     "metadata": {
      "needs_background": "light"
     },
     "output_type": "display_data"
    }
   ],
   "source": [
    "# Create a correlation matrix. What features correlate the most with stroke? What other correlations are there?\n",
    "corr = df.corr()\n",
    "sns.heatmap(corr, \n",
    "            xticklabels=corr.columns.values,\n",
    "            yticklabels=corr.columns.values)\n",
    "plt.title('Heatmap of Correlation Matrix')\n",
    "corr"
   ]
  },
  {
   "cell_type": "code",
<<<<<<< HEAD
   "execution_count": null,
   "metadata": {},
   "outputs": [],
   "source": []
  },
  {
   "cell_type": "code",
   "execution_count": null,
   "metadata": {},
   "outputs": [],
   "source": []
  }
 ],
 "metadata": {
  "kernelspec": {
   "display_name": "Python 3",
   "language": "python",
   "name": "python3"
  },
  "language_info": {
   "codemirror_mode": {
    "name": "ipython",
    "version": 3
   },
   "file_extension": ".py",
   "mimetype": "text/x-python",
   "name": "python",
   "nbconvert_exporter": "python",
   "pygments_lexer": "ipython3",
   "version": "3.5.5"
  }
 },
 "nbformat": 4,
 "nbformat_minor": 2
}
=======
   "execution_count": 41,
   "metadata": {
    "scrolled": true
   },
   "outputs": [
    {
     "data": {
      "text/plain": [
       "array([[1. , 0. ],\n",
       "       [1. , 0. ],\n",
       "       [1. , 0. ],\n",
       "       [0. , 1. ],\n",
       "       [0. , 1. ],\n",
       "       [1. , 0. ],\n",
       "       [1. , 0. ],\n",
       "       [0. , 1. ],\n",
       "       [0. , 1. ],\n",
       "       [1. , 0. ],\n",
       "       [1. , 0. ],\n",
       "       [1. , 0. ],\n",
       "       [1. , 0. ],\n",
       "       [0.1, 0.9],\n",
       "       [0. , 1. ],\n",
       "       [1. , 0. ],\n",
       "       [0.8, 0.2],\n",
       "       [1. , 0. ],\n",
       "       [1. , 0. ],\n",
       "       [1. , 0. ],\n",
       "       [1. , 0. ],\n",
       "       [1. , 0. ],\n",
       "       [0. , 1. ],\n",
       "       [0. , 1. ],\n",
       "       [1. , 0. ],\n",
       "       [1. , 0. ],\n",
       "       [0.9, 0.1],\n",
       "       [1. , 0. ],\n",
       "       [1. , 0. ],\n",
       "       [0.9, 0.1],\n",
       "       [1. , 0. ],\n",
       "       [1. , 0. ],\n",
       "       [1. , 0. ],\n",
       "       [1. , 0. ],\n",
       "       [1. , 0. ],\n",
       "       [1. , 0. ],\n",
       "       [0. , 1. ],\n",
       "       [1. , 0. ],\n",
       "       [1. , 0. ],\n",
       "       [0. , 1. ],\n",
       "       [1. , 0. ],\n",
       "       [0.8, 0.2],\n",
       "       [1. , 0. ],\n",
       "       [0. , 1. ],\n",
       "       [1. , 0. ],\n",
       "       [0.9, 0.1],\n",
       "       [1. , 0. ],\n",
       "       [1. , 0. ],\n",
       "       [1. , 0. ],\n",
       "       [0. , 1. ]])"
      ]
     },
     "execution_count": 41,
     "metadata": {},
     "output_type": "execute_result"
    }
   ],
   "source": [
    "rf.predict_proba(X_test)[175:225]"
   ]
  },
  {
   "cell_type": "markdown",
   "metadata": {},
   "source": [
    "# What to Optimize\n",
    "\n",
    "We want our machine learn model to capture as much of the minority class as possible (turnover group). Our objective is to catch ALL of the highly probable turnover employee at the risk of flagging some low-risk non-turnover employee. "
   ]
  },
 
>>>>>>> 1f01a46d73333933ab4da4fba8e9e10ab9f8c3d9
